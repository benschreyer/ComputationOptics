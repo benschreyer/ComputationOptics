{
 "cells": [
  {
   "cell_type": "code",
   "execution_count": null,
   "id": "a7352d11",
   "metadata": {},
   "outputs": [],
   "source": [
    "import numpy as np\n",
    "import matplotlib.pyplot as plt\n",
    "import scipy as sp\n",
    "import cv2\n",
    "import cshow as cs\n",
    "import scipy as sp"
   ]
  },
  {
   "cell_type": "code",
   "execution_count": null,
   "id": "9f0b8779",
   "metadata": {},
   "outputs": [],
   "source": [
    "cm = cs.colormapping.Colormap2d(\"rainbow_sixtyfive_dark_map_LUT\")"
   ]
  },
  {
   "cell_type": "code",
   "execution_count": null,
   "id": "6822b3b0",
   "metadata": {},
   "outputs": [],
   "source": [
    "#Function to generate a grid of coordinates in numpy\n",
    "#Resulting grid is indexed [coordinate, (x or y)][x grid position][y grid position]\n",
    "def GenerateEqualSpaced2dGridCoordinates(grid_size,grid_dimension):\n",
    "    #Single axis coordinate ticks, we only use square grids, just an ascending list\n",
    "    GeneratingAxis = np.array(list(range(0,grid_size)))\n",
    "    \n",
    "    #Build an array of appropriate size, square of grid points, each point has 2! values, its x coordinate, and y coordinate\n",
    "    CoordinateField = np.zeros((2,GeneratingAxis.size, GeneratingAxis.size))\n",
    "    \n",
    "    #Iterate each gridpoint, and fill in its position values\n",
    "    for cx, iy, ix in np.ndindex(CoordinateField.shape):\n",
    "        CoordinateField[0][ix][iy] = (ix - grid_size // 2) * grid_dimension / grid_size#Write x coordinate\n",
    "        CoordinateField[1][ix][iy] = (iy - grid_size // 2) * grid_dimension / grid_size#Write y coordinate\n",
    "        \n",
    "    #Return the grid\n",
    "    return CoordinateField\n"
   ]
  },
  {
   "cell_type": "code",
   "execution_count": null,
   "id": "75fa3f22",
   "metadata": {},
   "outputs": [],
   "source": [
    "B = 10\n",
    "D = 8\n",
    "M = 100\n",
    "f1 = (D*M + B)/M\n",
    "f2 = B/(M-1)"
   ]
  },
  {
   "cell_type": "code",
   "execution_count": null,
   "id": "9f9361fb",
   "metadata": {},
   "outputs": [],
   "source": [
    "mm = 10**-3\n",
    "nm =  10 **-9\n",
    "GridSize = 512\n",
    "GridDimension = 0.1\n",
    "BeamDimension = 1 * mm\n",
    "freq_spacing = 2*np.pi*GridSize/GridDimension\n",
    "lamb = 532 * nm\n",
    "#Generate an example grid, GridsizexGridsize grid points\n",
    "gridcoords = GenerateEqualSpaced2dGridCoordinates(GridSize,GridDimension)"
   ]
  },
  {
   "cell_type": "code",
   "execution_count": null,
   "id": "8c1f1d6d",
   "metadata": {},
   "outputs": [],
   "source": [
    "#Find the distance of each grid coordinate to a set location c, if c is not specified, just choose the center\n",
    "#of the provided grid\n",
    "def GridCoordinatesToDistances(x,c = \"NaN\"):\n",
    "    if c == \"NaN\":\n",
    "        #c not provided by user, just pick the center of the grid\n",
    "        c = (x[0][x.shape[1] // 2][0] , x[1][0][x.shape[2] // 2])\n",
    "    xp = x[0] - c[0]\n",
    "    yp = x[1] - c[1]\n",
    "    #D = v((x-c_x)^2 + (y-c_y)^2) \n",
    "    #Apply the distance formula on all grid points\n",
    "    return np.sqrt(np.sum(np.square(np.array([xp,yp])),axis = 0))"
   ]
  },
  {
   "cell_type": "code",
   "execution_count": null,
   "id": "de92712d",
   "metadata": {},
   "outputs": [],
   "source": [
    "#Generate example distances\n",
    "distances = GridCoordinatesToDistances(gridcoords)"
   ]
  },
  {
   "cell_type": "code",
   "execution_count": null,
   "id": "1550e417",
   "metadata": {},
   "outputs": [],
   "source": [
    "#Take in some grid coordinates, and output a 2d gaussian, whos square integral is one, and whose width is sigma\n",
    "#(same idea as normalization in quantum mechanics)\n",
    "\n",
    "def SpiderAperture(Coordinates,RInner, ROuter, ArmCount, ArmThickness):\n",
    "    aperture = np.zeros((Coordinates.shape[1],Coordinates.shape[2])) + 1.0\n",
    "    distances = GridCoordinatesToDistances(Coordinates)\n",
    "    aperture[distances > ROuter] = 0.0\n",
    "    aperture[distances < RInner] = 0.0\n",
    "    arm0 =  np.zeros((Coordinates.shape[1],Coordinates.shape[2])) \n",
    "    arm0[np.logical_and(Coordinates[1] < 0, np.logical_and(Coordinates[0] < ArmThickness /2, Coordinates[0] > -ArmThickness /2))] = 1.0\n",
    "    aperture[arm0 > 0.5] = 0.0\n",
    "    \n",
    "    for i in range(1, ArmCount):  \n",
    "        armi = sp.ndimage.rotate(arm0,360/ArmCount * (i),reshape=False)\n",
    "        aperture[armi > 0.5] = 0.0\n",
    "    return aperture\n",
    "    "
   ]
  },
  {
   "cell_type": "code",
   "execution_count": null,
   "id": "feea95bb",
   "metadata": {},
   "outputs": [],
   "source": [
    "plt.imshow(SpiderAperture(gridcoords,0.02,0.02,5,0.005))\n",
    "plt.colorbar()"
   ]
  },
  {
   "cell_type": "code",
   "execution_count": null,
   "id": "37e38526",
   "metadata": {},
   "outputs": [],
   "source": [
    "def NormalizedGaussian(coordinates, sigma):\n",
    "    #The gaussian falls as the distance to its center squared, with rate scaling by sigma, the distribution width\n",
    "    unnormalized_gaussian = np.exp(-(GridCoordinatesToDistances(coordinates)/sigma)**2)\n",
    "    \n",
    "    #Return the gaussian, but normalized\n",
    "    return unnormalized_gaussian/np.sqrt(np.sum(np.square(unnormalized_gaussian)))\n",
    "    "
   ]
  },
  {
   "cell_type": "code",
   "execution_count": null,
   "id": "b4bec2fa",
   "metadata": {},
   "outputs": [],
   "source": [
    "amplitude = np.zeros(gridcoords[0].shape) + 1j#\n",
    "#amplitude = NormalizedGaussian(gridcoords,0.05) * 1.0j\n",
    "amplitude/= np.sqrt(np.sum(np.square(np.abs(amplitude))))\n",
    "aperture = SpiderAperture(gridcoords,0.004,0.02,3,0.002)\n",
    "\n",
    "amplitude *= aperture\n",
    "\n",
    "amplitude /= np.sqrt(np.sum(np.abs(amplitude)))\n",
    "tilt = 0.002 * np.pi/180\n",
    "amplitude += amplitude * np.exp(2*np.pi * 1.0j*gridcoords[0]* tilt / lamb)"
   ]
  },
  {
   "cell_type": "code",
   "execution_count": null,
   "id": "65672ecb",
   "metadata": {},
   "outputs": [],
   "source": []
  },
  {
   "cell_type": "code",
   "execution_count": null,
   "id": "35a6bf37",
   "metadata": {},
   "outputs": [],
   "source": [
    "plt.title(\"Amplitude after aperture\")\n",
    "plt.imshow(cm(amplitude))\n",
    "cs.colordisk(cm, insetdim = 0.16)\n",
    "plt.show()"
   ]
  },
  {
   "cell_type": "code",
   "execution_count": null,
   "id": "863a1f81",
   "metadata": {},
   "outputs": [],
   "source": [
    "print(np.sum(np.square(np.abs(amplitude))))"
   ]
  },
  {
   "cell_type": "code",
   "execution_count": null,
   "id": "925514bd",
   "metadata": {},
   "outputs": [],
   "source": [
    "random_phasing = np.zeros(gridcoords[0].shape)\n",
    "import random\n",
    "import time\n",
    "random.seed(time.time())\n",
    "for gaussx in range(2):\n",
    "    for gaussy in range(2):\n",
    "        random_phasing +=1 * random.random() * np.exp(-np.square(np.square(GridCoordinatesToDistances(gridcoords, c = (GridSize/2 * gaussx*random.random() * GridDimension/GridSize ,GridSize/2 * gaussy *random.random()* GridDimension/GridSize - GridDimension/8) )))/np.square(GridDimension / 14)/np.square(GridDimension / 14))\n",
    "plt.imshow(random_phasing)\n",
    "plt.colorbar()\n",
    "plt.show()"
   ]
  },
  {
   "cell_type": "code",
   "execution_count": null,
   "id": "8c872046",
   "metadata": {},
   "outputs": [],
   "source": [
    "#amplitude *= np.exp(1.0j * random_phasing)\n",
    "amplitude *= np.exp(-1.0j * np.pi/lamb/(f1) * distances**2)\n",
    "plt.title(\"Amplitude after rain drops\")\n",
    "plt.imshow(cm(amplitude))\n",
    "cs.colordisk(cm, insetdim = 0.16)\n",
    "plt.show()\n",
    "out = amplitude\n",
    "\n",
    "outx = np.sum(np.square(np.abs(out)), axis = 1)/np.sum(np.square(np.abs(out)))\n",
    "\n",
    "outy = np.sum(np.square(np.abs(out)), axis = 0)/np.sum(np.square(np.abs(out)))\n",
    "#print(np.sum(np.abs(np.square(out))))\n",
    "\n",
    "\n",
    "#PlotAmplitudeIntensity(out)\n",
    "#plt.show()\n",
    "#plt.plot(outx)\n",
    "#c0 = sp.stats.moment(np.square(np.abs(out)), moment=1, axis=0, nan_policy='propagate')\n",
    "#c1 = sp.stats.moment(np.square(np.abs(out)), moment=1, axis=1, nan_policy='propagate' )\n",
    "np.sum(outx*gridcoords[0,:,0])/np.sum(outx)\n",
    "sf = 1\n",
    "newc = (gridcoords[0,:,0]) * sf\n",
    "m1x = np.sum(outx*newc)\n",
    "m1y = np.sum(outy*newc)\n",
    "\n",
    "m2y = np.sum(outy*np.square(newc - m1y))\n",
    "m2x = np.sum(outx*np.square(newc - m1x))\n",
    "\n",
    "display(2*np.sqrt(m2x))"
   ]
  },
  {
   "cell_type": "code",
   "execution_count": null,
   "id": "4ea42944",
   "metadata": {},
   "outputs": [],
   "source": [
    "z = D\n",
    "#if(i % 10) == 0:\n",
    "    #plt.title(str(z / mm))\n",
    "    #PlotAmplitudePhase(np.exp(1.0j*2*np.pi/lamb/(2*z)*np.square(distances[:,:])))\n",
    "    #plt.show()\n",
    "FT_m = np.fft.fftshift(np.fft.fft2(amplitude * np.exp(1.0j*2*np.pi/lamb/(2*z)*np.square(distances[:,:]))),axes=(0,1))#np.roll(np.roll(np.fft.fft2(final_field * np.exp(1.0j*2*np.pi/lamb/(2*z)*np.square(distances[:,:]))),GridSize//2, axis = 1),GridSize//2,axis = 0)\n",
    "#plt.imshow(np.abs(np.square(FT_m)))\n",
    "#plt.title(\"FFT\")\n",
    "#plt.show()\n",
    "\n",
    "#kernel = np.exp(1.0j*2*np.pi*z/lamb)/(1.0j*lamb*z)*np.exp(1.0j*2*np.pi/lamb/(2*z)*np.square(distances2[:,:]))\n",
    "#out = cv2.filter2D(src=final_field,ddepth=-1,kernel = kernel)#kernel,mode = \"same\")/np.sqrt(np.sum(np.abs(np.square(out))))\n",
    "sf = GridSize/(GridDimension**2)*lamb*z\n",
    "newco = gridcoords * sf\n",
    "\n",
    "out = FT_m * np.exp(1.0j /2 / z * 2 * np.pi/ lamb *np.square(GridCoordinatesToDistances(newco)))"
   ]
  },
  {
   "cell_type": "code",
   "execution_count": null,
   "id": "669541b2",
   "metadata": {},
   "outputs": [],
   "source": [
    "plt.title(\"Amplitude after prop\")\n",
    "plt.imshow(cm(out))\n",
    "cs.colordisk(cm, insetdim = 0.16)\n",
    "plt.show()\n",
    "\n",
    "outx = np.sum(np.square(np.abs(out)), axis = 1)/np.sum(np.square(np.abs(out)))\n",
    "\n",
    "outy = np.sum(np.square(np.abs(out)), axis = 0)/np.sum(np.square(np.abs(out)))\n",
    "#print(np.sum(np.abs(np.square(out))))\n",
    "\n",
    "\n",
    "#PlotAmplitudeIntensity(out)\n",
    "#plt.show()\n",
    "#plt.plot(outx)\n",
    "#c0 = sp.stats.moment(np.square(np.abs(out)), moment=1, axis=0, nan_policy='propagate')\n",
    "#c1 = sp.stats.moment(np.square(np.abs(out)), moment=1, axis=1, nan_policy='propagate' )\n",
    "np.sum(outx*gridcoords[0,:,0])/np.sum(outx)\n",
    "sf = GridSize/(GridDimension**2)*lamb*z\n",
    "newc = (gridcoords[0,:,0]) * sf\n",
    "m1x = np.sum(outx*newc)\n",
    "m1y = np.sum(outy*newc)\n",
    "\n",
    "m2y = np.sum(outy*np.square(newc - m1y))\n",
    "m2x = np.sum(outx*np.square(newc - m1x))\n",
    "\n",
    "display(2*np.sqrt(m2x))"
   ]
  },
  {
   "cell_type": "code",
   "execution_count": null,
   "id": "1dcf3908",
   "metadata": {},
   "outputs": [],
   "source": [
    "out *= np.exp(1.0j * np.pi/lamb/(f2) * GridCoordinatesToDistances(newco)**2)\n",
    "\n",
    "\n",
    "\n",
    "z = B\n",
    "#if(i % 10) == 0:\n",
    "    #plt.title(str(z / mm))\n",
    "    #PlotAmplitudePhase(np.exp(1.0j*2*np.pi/lamb/(2*z)*np.square(distances[:,:])))\n",
    "    #plt.show()\n",
    "FT_m = np.fft.fft2(out * np.exp(1.0j*2*np.pi/lamb/(2*z)*np.square(GridCoordinatesToDistances(newco))))#np.roll(np.roll(np.fft.fft2(final_field * np.exp(1.0j*2*np.pi/lamb/(2*z)*np.square(distances[:,:]))),GridSize//2, axis = 1),GridSize//2,axis = 0)\n",
    "#plt.imshow(np.abs(np.square(FT_m)))\n",
    "#plt.title(\"FFT\")\n",
    "#plt.show()\n",
    "\n",
    "#kernel = np.exp(1.0j*2*np.pi*z/lamb)/(1.0j*lamb*z)*np.exp(1.0j*2*np.pi/lamb/(2*z)*np.square(distances2[:,:]))\n",
    "#out = cv2.filter2D(src=final_field,ddepth=-1,kernel = kernel)#kernel,mode = \"same\")/np.sqrt(np.sum(np.abs(np.square(out))))\n",
    "out2 = FT_m#* np.exp(1.0j /2 / z * 2 * np.pi/ lamb *np.square(distances))"
   ]
  },
  {
   "cell_type": "code",
   "execution_count": null,
   "id": "61b9c48f",
   "metadata": {},
   "outputs": [],
   "source": [
    "plt.title(\"Amplitude after prop 2\")\n",
    "plt.imshow(np.abs(np.square(out2)))\n",
    "cs.colordisk(cm, insetdim = 0.16)\n",
    "plt.show()"
   ]
  },
  {
   "cell_type": "code",
   "execution_count": null,
   "id": "493c21d8",
   "metadata": {},
   "outputs": [],
   "source": [
    "h = np.exp(1.0j /2 / z * 2 * np.pi/ lamb *np.square(distances))\n",
    "#out2 = sp.signal.convolve2d(out,h, mode = 'same')"
   ]
  },
  {
   "cell_type": "code",
   "execution_count": null,
   "id": "15cb21cf",
   "metadata": {},
   "outputs": [],
   "source": [
    "plt.title(\"Amplitude after prop 2\")\n",
    "plt.imshow(cm(out2))\n",
    "cs.colordisk(cm, insetdim = 0.16)\n",
    "plt.show()"
   ]
  },
  {
   "cell_type": "code",
   "execution_count": null,
   "id": "8e85ab03",
   "metadata": {},
   "outputs": [],
   "source": [
    "image += out2"
   ]
  },
  {
   "cell_type": "code",
   "execution_count": null,
   "id": "b60ee4d9",
   "metadata": {},
   "outputs": [],
   "source": [
    "plt.title(\"Amplitude after prop 2\")\n",
    "plt.imshow(np.abs(np.square(image)))\n",
    "cs.colordisk(cm, insetdim = 0.16)\n",
    "plt.show()"
   ]
  },
  {
   "cell_type": "code",
   "execution_count": null,
   "id": "43f6a6a7",
   "metadata": {},
   "outputs": [],
   "source": []
  },
  {
   "cell_type": "code",
   "execution_count": null,
   "id": "e6438b81",
   "metadata": {},
   "outputs": [],
   "source": []
  }
 ],
 "metadata": {
  "kernelspec": {
   "display_name": "Python 3 (ipykernel)",
   "language": "python",
   "name": "python3"
  },
  "language_info": {
   "codemirror_mode": {
    "name": "ipython",
    "version": 3
   },
   "file_extension": ".py",
   "mimetype": "text/x-python",
   "name": "python",
   "nbconvert_exporter": "python",
   "pygments_lexer": "ipython3",
   "version": "3.10.12"
  }
 },
 "nbformat": 4,
 "nbformat_minor": 5
}
